{
 "cells": [
  {
   "cell_type": "code",
   "execution_count": 1,
   "id": "b57a8d11-ba39-4672-96e9-09bd7a84d02c",
   "metadata": {
    "execution": {
     "iopub.execute_input": "2025-03-18T07:52:30.256715Z",
     "iopub.status.busy": "2025-03-18T07:52:30.256397Z",
     "iopub.status.idle": "2025-03-18T07:53:36.352768Z",
     "shell.execute_reply": "2025-03-18T07:53:36.351652Z",
     "shell.execute_reply.started": "2025-03-18T07:52:30.256685Z"
    },
    "tags": []
   },
   "outputs": [
    {
     "data": {
      "application/vnd.jupyter.widget-view+json": {
       "model_id": "f3fb8d0d38934b74ac12a0b892778a7d",
       "version_major": 2,
       "version_minor": 0
      },
      "text/plain": [
       "VBox()"
      ]
     },
     "metadata": {},
     "output_type": "display_data"
    },
    {
     "name": "stdout",
     "output_type": "stream",
     "text": [
      "Starting Spark application\n"
     ]
    },
    {
     "data": {
      "text/html": [
       "<table>\n",
       "<tbody><tr><th>ID</th><th>YARN Application ID</th><th>Kind</th><th>State</th><th>Spark UI</th><th>Driver log</th><th>User</th><th>Current session?</th></tr><tr><td>2</td><td>application_1742277623694_0003</td><td>pyspark</td><td>idle</td><td><a target=\"_blank\" href=\"http://ip-172-31-45-200.ec2.internal:20888/proxy/application_1742277623694_0003/\" class=\"emr-proxy-link j-31DAPVK8IFRUM application_1742277623694_0003\" emr-resource=\"j-31DAPVK8IFRUM\n",
       "\" application-id=\"application_1742277623694_0003\">Link</a></td><td><a target=\"_blank\" href=\"http://ip-172-31-47-21.ec2.internal:8042/node/containerlogs/container_1742277623694_0003_01_000001/livy\">Link</a></td><td>None</td><td>✔</td></tr></tbody></table>"
      ],
      "text/plain": [
       "<IPython.core.display.HTML object>"
      ]
     },
     "metadata": {},
     "output_type": "display_data"
    },
    {
     "data": {
      "application/vnd.jupyter.widget-view+json": {
       "model_id": "",
       "version_major": 2,
       "version_minor": 0
      },
      "text/plain": [
       "FloatProgress(value=0.0, bar_style='info', description='Progress:', layout=Layout(height='25px', width='50%'),…"
      ]
     },
     "metadata": {},
     "output_type": "display_data"
    },
    {
     "name": "stdout",
     "output_type": "stream",
     "text": [
      "SparkSession available as 'spark'.\n"
     ]
    },
    {
     "data": {
      "application/vnd.jupyter.widget-view+json": {
       "model_id": "",
       "version_major": 2,
       "version_minor": 0
      },
      "text/plain": [
       "FloatProgress(value=0.0, bar_style='info', description='Progress:', layout=Layout(height='25px', width='50%'),…"
      ]
     },
     "metadata": {},
     "output_type": "display_data"
    },
    {
     "name": "stdout",
     "output_type": "stream",
     "text": [
      "Collecting numpy\n",
      "  Downloading numpy-2.0.2-cp39-cp39-manylinux_2_17_x86_64.manylinux2014_x86_64.whl (19.5 MB)\n",
      "Installing collected packages: numpy\n",
      "Successfully installed numpy-2.0.2\n",
      "\n",
      "WARNING: The directory '/home/.cache/pip' or its parent directory is not owned or is not writable by the current user. The cache has been disabled. Check the permissions and owner of that directory. If executing pip with sudo, you should use sudo's -H flag."
     ]
    }
   ],
   "source": [
    "sc.install_pypi_package(\"numpy\")"
   ]
  },
  {
   "cell_type": "code",
   "execution_count": 2,
   "id": "31844a2a-0716-4d20-8ac9-9ab797a9f3ce",
   "metadata": {
    "execution": {
     "iopub.execute_input": "2025-03-18T07:54:31.655882Z",
     "iopub.status.busy": "2025-03-18T07:54:31.655636Z",
     "iopub.status.idle": "2025-03-18T07:56:31.464751Z",
     "shell.execute_reply": "2025-03-18T07:56:31.462972Z",
     "shell.execute_reply.started": "2025-03-18T07:54:31.655855Z"
    },
    "tags": []
   },
   "outputs": [
    {
     "data": {
      "application/vnd.jupyter.widget-view+json": {
       "model_id": "7df9c8a462124c1794d3102b2810658a",
       "version_major": 2,
       "version_minor": 0
      },
      "text/plain": [
       "VBox()"
      ]
     },
     "metadata": {},
     "output_type": "display_data"
    },
    {
     "data": {
      "application/vnd.jupyter.widget-view+json": {
       "model_id": "",
       "version_major": 2,
       "version_minor": 0
      },
      "text/plain": [
       "FloatProgress(value=0.0, bar_style='info', description='Progress:', layout=Layout(height='25px', width='50%'),…"
      ]
     },
     "metadata": {},
     "output_type": "display_data"
    },
    {
     "name": "stdout",
     "output_type": "stream",
     "text": [
      "+-------------------+-----------+-------------------+----------------+---------------+-----------------+----------------+---------------+\n",
      "|                key|fare_amount|    pickup_datetime|pickup_longitude|pickup_latitude|dropoff_longitude|dropoff_latitude|passenger_count|\n",
      "+-------------------+-----------+-------------------+----------------+---------------+-----------------+----------------+---------------+\n",
      "|2009-06-15 17:26:21|        4.5|2009-06-15 17:26:21|      -73.844311|      40.721319|        -73.84161|       40.712278|              1|\n",
      "|2010-01-05 16:52:16|       16.9|2010-01-05 16:52:16|      -74.016048|      40.711303|       -73.979268|       40.782004|              1|\n",
      "|2011-08-18 00:35:00|        5.7|2011-08-18 00:35:00|      -73.982738|       40.76127|       -73.991242|       40.750562|              2|\n",
      "|2012-04-21 04:30:42|        7.7|2012-04-21 04:30:42|       -73.98713|      40.733143|       -73.991567|       40.758092|              1|\n",
      "|2010-03-09 07:51:00|        5.3|2010-03-09 07:51:00|      -73.968095|      40.768008|       -73.956655|       40.783762|              1|\n",
      "+-------------------+-----------+-------------------+----------------+---------------+-----------------+----------------+---------------+\n",
      "only showing top 5 rows"
     ]
    }
   ],
   "source": [
    "from pyspark.sql import SparkSession\n",
    "\n",
    "spark = SparkSession.builder.appName(\"NYC Taxi Fare Predicition\").getOrCreate()\n",
    "\n",
    "s3_path = \"s3://nyc-taxi-fare-data/train.csv\"\n",
    "df = spark.read.csv(s3_path, header = True, inferSchema = True)\n",
    "\n",
    "df.show(5)"
   ]
  },
  {
   "cell_type": "code",
   "execution_count": 3,
   "id": "3bfd2d5c-9b5b-46bf-bb43-db04d5c6134f",
   "metadata": {
    "execution": {
     "iopub.execute_input": "2025-03-18T07:57:25.952888Z",
     "iopub.status.busy": "2025-03-18T07:57:25.952620Z",
     "iopub.status.idle": "2025-03-18T07:58:21.486913Z",
     "shell.execute_reply": "2025-03-18T07:58:21.486026Z",
     "shell.execute_reply.started": "2025-03-18T07:57:25.952860Z"
    },
    "tags": []
   },
   "outputs": [
    {
     "data": {
      "application/vnd.jupyter.widget-view+json": {
       "model_id": "507f83e64e84443c9f50a98364da2995",
       "version_major": 2,
       "version_minor": 0
      },
      "text/plain": [
       "VBox()"
      ]
     },
     "metadata": {},
     "output_type": "display_data"
    },
    {
     "data": {
      "application/vnd.jupyter.widget-view+json": {
       "model_id": "",
       "version_major": 2,
       "version_minor": 0
      },
      "text/plain": [
       "FloatProgress(value=0.0, bar_style='info', description='Progress:', layout=Layout(height='25px', width='50%'),…"
      ]
     },
     "metadata": {},
     "output_type": "display_data"
    },
    {
     "name": "stdout",
     "output_type": "stream",
     "text": [
      "root\n",
      " |-- key: timestamp (nullable = true)\n",
      " |-- fare_amount: double (nullable = true)\n",
      " |-- pickup_datetime: timestamp (nullable = true)\n",
      " |-- pickup_longitude: double (nullable = true)\n",
      " |-- pickup_latitude: double (nullable = true)\n",
      " |-- dropoff_longitude: double (nullable = true)\n",
      " |-- dropoff_latitude: double (nullable = true)\n",
      " |-- passenger_count: integer (nullable = true)\n",
      "\n",
      "+-------+------------------+------------------+------------------+------------------+-----------------+------------------+\n",
      "|summary|       fare_amount|  pickup_longitude|   pickup_latitude| dropoff_longitude| dropoff_latitude|   passenger_count|\n",
      "+-------+------------------+------------------+------------------+------------------+-----------------+------------------+\n",
      "|  count|          55423856|          55423856|          55423856|          55423480|         55423480|          55423856|\n",
      "|   mean|11.345045601663854|-72.50968444358728|39.919791786888176| -72.5112097297181|39.92068144482886|1.6853799201556816|\n",
      "| stddev|  20.7108321982325| 12.84888338140265| 9.642353041994934|12.782196517830771|9.633345796415126|1.3276643570959683|\n",
      "|    min|            -300.0|      -3442.059565|      -3492.263768|      -3442.024565|     -3547.886698|                 0|\n",
      "|    max|          93963.36|       3457.625683|       3408.789565|        3457.62235|      3537.132528|               208|\n",
      "+-------+------------------+------------------+------------------+------------------+-----------------+------------------+"
     ]
    }
   ],
   "source": [
    "df.printSchema()\n",
    "df.describe().show()"
   ]
  },
  {
   "cell_type": "code",
   "execution_count": 4,
   "id": "7423a5bd-3ab7-41af-84e1-3c2415441d44",
   "metadata": {
    "execution": {
     "iopub.execute_input": "2025-03-18T07:59:47.131252Z",
     "iopub.status.busy": "2025-03-18T07:59:47.130974Z",
     "iopub.status.idle": "2025-03-18T08:01:42.791402Z",
     "shell.execute_reply": "2025-03-18T08:01:42.790473Z",
     "shell.execute_reply.started": "2025-03-18T07:59:47.131224Z"
    },
    "tags": []
   },
   "outputs": [
    {
     "data": {
      "application/vnd.jupyter.widget-view+json": {
       "model_id": "6b814210f09a4ea5b4434b56d78d1103",
       "version_major": 2,
       "version_minor": 0
      },
      "text/plain": [
       "VBox()"
      ]
     },
     "metadata": {},
     "output_type": "display_data"
    },
    {
     "data": {
      "application/vnd.jupyter.widget-view+json": {
       "model_id": "",
       "version_major": 2,
       "version_minor": 0
      },
      "text/plain": [
       "FloatProgress(value=0.0, bar_style='info', description='Progress:', layout=Layout(height='25px', width='50%'),…"
      ]
     },
     "metadata": {},
     "output_type": "display_data"
    },
    {
     "name": "stdout",
     "output_type": "stream",
     "text": [
      "+-------------------+-----------+-------------------+----------------+---------------+-----------------+----------------+---------------+\n",
      "|                key|fare_amount|    pickup_datetime|pickup_longitude|pickup_latitude|dropoff_longitude|dropoff_latitude|passenger_count|\n",
      "+-------------------+-----------+-------------------+----------------+---------------+-----------------+----------------+---------------+\n",
      "|2009-06-15 17:26:21|        4.5|2009-06-15 17:26:21|      -73.844311|      40.721319|        -73.84161|       40.712278|              1|\n",
      "|2010-01-05 16:52:16|       16.9|2010-01-05 16:52:16|      -74.016048|      40.711303|       -73.979268|       40.782004|              1|\n",
      "|2011-08-18 00:35:00|        5.7|2011-08-18 00:35:00|      -73.982738|       40.76127|       -73.991242|       40.750562|              2|\n",
      "|2012-04-21 04:30:42|        7.7|2012-04-21 04:30:42|       -73.98713|      40.733143|       -73.991567|       40.758092|              1|\n",
      "|2010-03-09 07:51:00|        5.3|2010-03-09 07:51:00|      -73.968095|      40.768008|       -73.956655|       40.783762|              1|\n",
      "+-------------------+-----------+-------------------+----------------+---------------+-----------------+----------------+---------------+\n",
      "only showing top 5 rows\n",
      "\n",
      "+-------+------------------+-------------------+--------------------+-------------------+--------------------+------------------+\n",
      "|summary|       fare_amount|   pickup_longitude|     pickup_latitude|  dropoff_longitude|    dropoff_latitude|   passenger_count|\n",
      "+-------+------------------+-------------------+--------------------+-------------------+--------------------+------------------+\n",
      "|  count|          52904711|           52904711|            52904711|           52904711|            52904711|          52904711|\n",
      "|   mean|11.297841937177266| -73.97512191659303|   40.75106961403069| -73.97427200313663|  40.751416984389266|1.5974996064150129|\n",
      "| stddev| 9.520086901375388|0.03876549662061216|0.029799348605078234|0.03789341387835304|0.032995940234746675| 1.154547219895361|\n",
      "|    min|               2.5|              -74.5|                40.0|              -74.5|                40.0|                 1|\n",
      "|    max|             150.0|         -72.005935|                42.0|              -72.0|           41.998107|                 5|\n",
      "+-------+------------------+-------------------+--------------------+-------------------+--------------------+------------------+"
     ]
    }
   ],
   "source": [
    "from pyspark.sql.functions import col\n",
    "\n",
    "df_cleaned = df.dropna()\n",
    "df_cleaned = df_cleaned.filter(\n",
    "    (col(\"fare_amount\") >= 2.50) &\n",
    "    (col(\"fare_amount\") <= 150)\n",
    ")\n",
    "\n",
    "df_cleaned = df_cleaned.filter(\n",
    "    (col(\"passenger_count\") >= 1) &\n",
    "    (col(\"passenger_count\") <= 5)\n",
    ")\n",
    "\n",
    "NYC_LONG_MIN, NYC_LONG_MAX = -74.5, -72.0\n",
    "NYC_LAT_MIN, NYC_LAT_MAX = 40.0, 42.0\n",
    "\n",
    "df_cleaned = df_cleaned.filter(\n",
    "    (col(\"pickup_longitude\") >= NYC_LONG_MIN) & (col(\"pickup_longitude\") <= NYC_LONG_MAX) &\n",
    "    (col(\"dropoff_longitude\") >= NYC_LONG_MIN) & (col(\"dropoff_longitude\") <= NYC_LONG_MAX) &\n",
    "    (col(\"pickup_latitude\") >= NYC_LAT_MIN) & (col(\"pickup_latitude\") <= NYC_LAT_MAX) &\n",
    "    (col(\"dropoff_latitude\") >= NYC_LAT_MIN) & (col(\"dropoff_latitude\") <= NYC_LAT_MAX) \n",
    ")\n",
    "\n",
    "df_cleaned.show(5)\n",
    "df_cleaned.describe().show()"
   ]
  },
  {
   "cell_type": "code",
   "execution_count": 5,
   "id": "9687143a-22f7-420a-a4a6-8743209c83b0",
   "metadata": {
    "execution": {
     "iopub.execute_input": "2025-03-18T08:02:18.679197Z",
     "iopub.status.busy": "2025-03-18T08:02:18.678862Z",
     "iopub.status.idle": "2025-03-18T08:04:20.387694Z",
     "shell.execute_reply": "2025-03-18T08:04:20.387015Z",
     "shell.execute_reply.started": "2025-03-18T08:02:18.679155Z"
    },
    "tags": []
   },
   "outputs": [
    {
     "data": {
      "application/vnd.jupyter.widget-view+json": {
       "model_id": "207b2d70e02e4131978a642fbe62b495",
       "version_major": 2,
       "version_minor": 0
      },
      "text/plain": [
       "VBox()"
      ]
     },
     "metadata": {},
     "output_type": "display_data"
    },
    {
     "data": {
      "application/vnd.jupyter.widget-view+json": {
       "model_id": "",
       "version_major": 2,
       "version_minor": 0
      },
      "text/plain": [
       "FloatProgress(value=0.0, bar_style='info', description='Progress:', layout=Layout(height='25px', width='50%'),…"
      ]
     },
     "metadata": {},
     "output_type": "display_data"
    }
   ],
   "source": [
    "cleaned_s3_path = \"s3://nyc-taxi-fare-data/cleaned-data/\"\n",
    "df_cleaned.write.mode(\"overwrite\").parquet(cleaned_s3_path)"
   ]
  },
  {
   "cell_type": "code",
   "execution_count": 6,
   "id": "d21d7619-4d05-42ec-bea6-8deafbca2a78",
   "metadata": {
    "execution": {
     "iopub.execute_input": "2025-03-18T08:04:29.435297Z",
     "iopub.status.busy": "2025-03-18T08:04:29.435023Z",
     "iopub.status.idle": "2025-03-18T08:04:32.723086Z",
     "shell.execute_reply": "2025-03-18T08:04:32.722327Z",
     "shell.execute_reply.started": "2025-03-18T08:04:29.435265Z"
    },
    "tags": []
   },
   "outputs": [
    {
     "data": {
      "application/vnd.jupyter.widget-view+json": {
       "model_id": "383ff78d25f244a28528909dc08c986e",
       "version_major": 2,
       "version_minor": 0
      },
      "text/plain": [
       "VBox()"
      ]
     },
     "metadata": {},
     "output_type": "display_data"
    },
    {
     "data": {
      "application/vnd.jupyter.widget-view+json": {
       "model_id": "",
       "version_major": 2,
       "version_minor": 0
      },
      "text/plain": [
       "FloatProgress(value=0.0, bar_style='info', description='Progress:', layout=Layout(height='25px', width='50%'),…"
      ]
     },
     "metadata": {},
     "output_type": "display_data"
    },
    {
     "name": "stdout",
     "output_type": "stream",
     "text": [
      "+-------------------+-----------+-------------------+----------------+---------------+-----------------+----------------+---------------+\n",
      "|                key|fare_amount|    pickup_datetime|pickup_longitude|pickup_latitude|dropoff_longitude|dropoff_latitude|passenger_count|\n",
      "+-------------------+-----------+-------------------+----------------+---------------+-----------------+----------------+---------------+\n",
      "|2014-03-28 22:33:44|       10.5|2014-03-28 22:33:44|      -73.975948|      40.760499|       -74.006053|       40.748556|              2|\n",
      "|2009-06-24 10:53:42|        6.1|2009-06-24 10:53:42|      -73.965135|      40.755205|       -73.964978|       40.765663|              1|\n",
      "|2013-09-21 00:41:33|       15.5|2013-09-21 00:41:33|      -73.999178|      40.727815|       -73.955996|       40.772278|              2|\n",
      "|2013-10-10 02:04:00|       26.0|2013-10-10 02:04:00|      -74.013262|      40.708937|        -73.95027|       40.635287|              1|\n",
      "|2014-03-15 12:36:00|       52.0|2014-03-15 12:36:00|      -73.988077|       40.74865|       -73.845282|       40.737037|              1|\n",
      "+-------------------+-----------+-------------------+----------------+---------------+-----------------+----------------+---------------+\n",
      "only showing top 5 rows"
     ]
    }
   ],
   "source": [
    "df_cleaned = spark.read.parquet(\"s3://nyc-taxi-fare-data/cleaned-data/\")\n",
    "df_cleaned.show(5)"
   ]
  },
  {
   "cell_type": "code",
   "execution_count": 7,
   "id": "66c6a12c-e409-4bcb-8682-8fb8bd832d64",
   "metadata": {
    "execution": {
     "iopub.execute_input": "2025-03-18T08:04:37.086284Z",
     "iopub.status.busy": "2025-03-18T08:04:37.085374Z",
     "iopub.status.idle": "2025-03-18T08:04:39.392429Z",
     "shell.execute_reply": "2025-03-18T08:04:39.391520Z",
     "shell.execute_reply.started": "2025-03-18T08:04:37.086253Z"
    },
    "tags": []
   },
   "outputs": [
    {
     "data": {
      "application/vnd.jupyter.widget-view+json": {
       "model_id": "0c68681be6714f08b3284c8bf373689d",
       "version_major": 2,
       "version_minor": 0
      },
      "text/plain": [
       "VBox()"
      ]
     },
     "metadata": {},
     "output_type": "display_data"
    },
    {
     "data": {
      "application/vnd.jupyter.widget-view+json": {
       "model_id": "",
       "version_major": 2,
       "version_minor": 0
      },
      "text/plain": [
       "FloatProgress(value=0.0, bar_style='info', description='Progress:', layout=Layout(height='25px', width='50%'),…"
      ]
     },
     "metadata": {},
     "output_type": "display_data"
    },
    {
     "name": "stdout",
     "output_type": "stream",
     "text": [
      "+-------------------+\n",
      "|   trip_distance_km|\n",
      "+-------------------+\n",
      "| 3.3674989102143535|\n",
      "|0.32168794619024293|\n",
      "|  4.991768280690499|\n",
      "|  7.359914633548004|\n",
      "| 15.882108914214808|\n",
      "+-------------------+\n",
      "only showing top 5 rows"
     ]
    }
   ],
   "source": [
    "from pyspark.sql.functions import radians, cos, sin, atan2, sqrt\n",
    "\n",
    "def haversine_distance(lon1, lat1, lon2, lat2):\n",
    "    R = 6371.0\n",
    "    return 2 * R * atan2(sqrt(\n",
    "        sin(radians(lat2 - lat1) / 2)**2 + \n",
    "        cos (radians(lat1)) * cos(radians(lat2)) *\n",
    "        sin(radians(lon2 - lon1) / 2)**2\n",
    "    ),\n",
    "    sqrt(\n",
    "        1 - (\n",
    "        sin(radians(lat2 - lat1) / 2)**2 + \n",
    "        cos (radians(lat1)) * cos(radians(lat2)) *\n",
    "        sin(radians(lon2 - lon1) / 2)**2\n",
    "        )\n",
    "    ),\n",
    ")\n",
    "\n",
    "df_cleaned = df_cleaned.withColumn(\n",
    "    \"trip_distance_km\", \n",
    "    haversine_distance(\n",
    "        col(\"pickup_latitude\"), col(\"pickup_longitude\"), \n",
    "        col(\"dropoff_latitude\"), col(\"dropoff_longitude\")\n",
    "    )\n",
    ") \n",
    "\n",
    "df_cleaned.select(\"trip_distance_km\").show(5)"
   ]
  },
  {
   "cell_type": "code",
   "execution_count": 8,
   "id": "2b64a714-cfc7-4c24-8f63-264dbc2521d2",
   "metadata": {
    "execution": {
     "iopub.execute_input": "2025-03-18T08:04:44.468715Z",
     "iopub.status.busy": "2025-03-18T08:04:44.468439Z",
     "iopub.status.idle": "2025-03-18T08:04:49.777207Z",
     "shell.execute_reply": "2025-03-18T08:04:49.776402Z",
     "shell.execute_reply.started": "2025-03-18T08:04:44.468686Z"
    },
    "tags": []
   },
   "outputs": [
    {
     "data": {
      "application/vnd.jupyter.widget-view+json": {
       "model_id": "04fdcbb3fada4ae987c31e4d460857aa",
       "version_major": 2,
       "version_minor": 0
      },
      "text/plain": [
       "VBox()"
      ]
     },
     "metadata": {},
     "output_type": "display_data"
    },
    {
     "data": {
      "application/vnd.jupyter.widget-view+json": {
       "model_id": "",
       "version_major": 2,
       "version_minor": 0
      },
      "text/plain": [
       "FloatProgress(value=0.0, bar_style='info', description='Progress:', layout=Layout(height='25px', width='50%'),…"
      ]
     },
     "metadata": {},
     "output_type": "display_data"
    },
    {
     "name": "stdout",
     "output_type": "stream",
     "text": [
      "+--------------------+-----------+\n",
      "|            features|fare_amount|\n",
      "+--------------------+-----------+\n",
      "|[3.36749891021435...|       10.5|\n",
      "|[0.32168794619024...|        6.1|\n",
      "|[4.99176828069049...|       15.5|\n",
      "|[7.35991463354800...|       26.0|\n",
      "|[15.8821089142148...|       52.0|\n",
      "+--------------------+-----------+\n",
      "only showing top 5 rows"
     ]
    }
   ],
   "source": [
    "from pyspark.ml.feature import VectorAssembler \n",
    "\n",
    "feature_columns = [\"trip_distance_km\", \"pickup_longitude\", \"pickup_latitude\", \"dropoff_longitude\", \"dropoff_latitude\", \"passenger_count\"]\n",
    "\n",
    "assembler = VectorAssembler(inputCols = feature_columns, outputCol = \"features\")\n",
    "df_model = assembler.transform(df_cleaned)\n",
    "\n",
    "df_model.select(\"features\", \"fare_amount\").show(5)"
   ]
  },
  {
   "cell_type": "code",
   "execution_count": 9,
   "id": "3925938c-3263-4366-91cd-116b9d6ab9db",
   "metadata": {
    "execution": {
     "iopub.execute_input": "2025-03-18T08:04:54.200292Z",
     "iopub.status.busy": "2025-03-18T08:04:54.200047Z",
     "iopub.status.idle": "2025-03-18T08:05:27.604602Z",
     "shell.execute_reply": "2025-03-18T08:05:27.603739Z",
     "shell.execute_reply.started": "2025-03-18T08:04:54.200265Z"
    },
    "tags": []
   },
   "outputs": [
    {
     "data": {
      "application/vnd.jupyter.widget-view+json": {
       "model_id": "850f3ce26ca646b0aa219c4eefa84487",
       "version_major": 2,
       "version_minor": 0
      },
      "text/plain": [
       "VBox()"
      ]
     },
     "metadata": {},
     "output_type": "display_data"
    },
    {
     "data": {
      "application/vnd.jupyter.widget-view+json": {
       "model_id": "",
       "version_major": 2,
       "version_minor": 0
      },
      "text/plain": [
       "FloatProgress(value=0.0, bar_style='info', description='Progress:', layout=Layout(height='25px', width='50%'),…"
      ]
     },
     "metadata": {},
     "output_type": "display_data"
    },
    {
     "name": "stdout",
     "output_type": "stream",
     "text": [
      "+--------------------+-----------+\n",
      "|     scaled_features|fare_amount|\n",
      "+--------------------+-----------+\n",
      "|[0.16976121913776...|       10.5|\n",
      "|[-0.6075941723076...|        6.1|\n",
      "|[0.58430912352612...|       15.5|\n",
      "|[1.18871017036371...|       26.0|\n",
      "|[3.36375443583875...|       52.0|\n",
      "+--------------------+-----------+\n",
      "only showing top 5 rows"
     ]
    }
   ],
   "source": [
    "from pyspark.ml.feature import StandardScaler\n",
    "\n",
    "scaler = StandardScaler(inputCol = \"features\", outputCol = \"scaled_features\", withMean = True, withStd = True)\n",
    "\n",
    "scaler_model = scaler.fit(df_model)\n",
    "df_scaled = scaler_model.transform(df_model)\n",
    "\n",
    "df_scaled.select(\"scaled_features\", \"fare_amount\").show(5)"
   ]
  },
  {
   "cell_type": "code",
   "execution_count": 10,
   "id": "d8d9dc44-b2fb-4b34-a9d8-f2c58cbcfa0f",
   "metadata": {
    "execution": {
     "iopub.execute_input": "2025-03-18T08:09:19.014459Z",
     "iopub.status.busy": "2025-03-18T08:09:19.013359Z",
     "iopub.status.idle": "2025-03-18T08:10:58.632091Z",
     "shell.execute_reply": "2025-03-18T08:10:58.631441Z",
     "shell.execute_reply.started": "2025-03-18T08:09:19.014422Z"
    },
    "tags": []
   },
   "outputs": [
    {
     "data": {
      "application/vnd.jupyter.widget-view+json": {
       "model_id": "6cffa1eecb7a49a69dc169ff10841d8d",
       "version_major": 2,
       "version_minor": 0
      },
      "text/plain": [
       "VBox()"
      ]
     },
     "metadata": {},
     "output_type": "display_data"
    },
    {
     "data": {
      "application/vnd.jupyter.widget-view+json": {
       "model_id": "",
       "version_major": 2,
       "version_minor": 0
      },
      "text/plain": [
       "FloatProgress(value=0.0, bar_style='info', description='Progress:', layout=Layout(height='25px', width='50%'),…"
      ]
     },
     "metadata": {},
     "output_type": "display_data"
    },
    {
     "name": "stdout",
     "output_type": "stream",
     "text": [
      "Sampled Dataset Size: 15870491 rows\n",
      "Training Data: 11110384 rows\n",
      "Testing Data: 4760107 rows"
     ]
    }
   ],
   "source": [
    "df_sampled = df_scaled.sample(withReplacement = False, fraction = 0.3, seed = 42)\n",
    "print(f\"Sampled Dataset Size: {df_sampled.count()} rows\")\n",
    "\n",
    "train_data, test_data = df_sampled.randomSplit([0.7,0.3], seed = 42)\n",
    "print(f\"Training Data: {train_data.count()} rows\")\n",
    "print(f\"Testing Data: {test_data.count()} rows\")"
   ]
  },
  {
   "cell_type": "code",
   "execution_count": 11,
   "id": "896c5307-4777-4688-bcaf-3e4b71946c38",
   "metadata": {
    "execution": {
     "iopub.execute_input": "2025-03-18T08:12:37.744958Z",
     "iopub.status.busy": "2025-03-18T08:12:37.744686Z",
     "iopub.status.idle": "2025-03-18T08:14:31.400218Z",
     "shell.execute_reply": "2025-03-18T08:14:31.399421Z",
     "shell.execute_reply.started": "2025-03-18T08:12:37.744928Z"
    },
    "tags": []
   },
   "outputs": [
    {
     "data": {
      "application/vnd.jupyter.widget-view+json": {
       "model_id": "2782ad3ee67f47599707277314c899fe",
       "version_major": 2,
       "version_minor": 0
      },
      "text/plain": [
       "VBox()"
      ]
     },
     "metadata": {},
     "output_type": "display_data"
    },
    {
     "data": {
      "application/vnd.jupyter.widget-view+json": {
       "model_id": "",
       "version_major": 2,
       "version_minor": 0
      },
      "text/plain": [
       "FloatProgress(value=0.0, bar_style='info', description='Progress:', layout=Layout(height='25px', width='50%'),…"
      ]
     },
     "metadata": {},
     "output_type": "display_data"
    },
    {
     "name": "stdout",
     "output_type": "stream",
     "text": [
      "+-----------+------------------+\n",
      "|fare_amount|        prediction|\n",
      "+-----------+------------------+\n",
      "|       13.8|18.592860074859757|\n",
      "|        4.6| 6.657464216527172|\n",
      "|        5.0| 8.011823189740728|\n",
      "|        4.6| 7.663537880954089|\n",
      "|        7.4| 9.710376664735577|\n",
      "|        4.2| 9.309216777817195|\n",
      "|       16.6| 10.35327315724484|\n",
      "|        7.4|  9.63320431267817|\n",
      "|       14.6|11.978001259791766|\n",
      "|        9.4| 8.982121950665192|\n",
      "+-----------+------------------+\n",
      "only showing top 10 rows"
     ]
    }
   ],
   "source": [
    "from pyspark.ml.regression import LinearRegression\n",
    "\n",
    "lr = LinearRegression(featuresCol = \"scaled_features\", labelCol = \"fare_amount\")\n",
    "lr_model = lr.fit(train_data)\n",
    "lr_predictions = lr_model.transform(test_data)\n",
    "lr_predictions.select(\"fare_amount\", \"prediction\").show(10)"
   ]
  },
  {
   "cell_type": "code",
   "execution_count": 12,
   "id": "8a0f2376-fb89-4178-b3c2-4a6ff52e6b6b",
   "metadata": {
    "execution": {
     "iopub.execute_input": "2025-03-18T08:15:37.650418Z",
     "iopub.status.busy": "2025-03-18T08:15:37.650121Z",
     "iopub.status.idle": "2025-03-18T08:17:17.265242Z",
     "shell.execute_reply": "2025-03-18T08:17:17.264532Z",
     "shell.execute_reply.started": "2025-03-18T08:15:37.650386Z"
    },
    "tags": []
   },
   "outputs": [
    {
     "data": {
      "application/vnd.jupyter.widget-view+json": {
       "model_id": "113bb90045144b4b96b9dedee91a9489",
       "version_major": 2,
       "version_minor": 0
      },
      "text/plain": [
       "VBox()"
      ]
     },
     "metadata": {},
     "output_type": "display_data"
    },
    {
     "data": {
      "application/vnd.jupyter.widget-view+json": {
       "model_id": "",
       "version_major": 2,
       "version_minor": 0
      },
      "text/plain": [
       "FloatProgress(value=0.0, bar_style='info', description='Progress:', layout=Layout(height='25px', width='50%'),…"
      ]
     },
     "metadata": {},
     "output_type": "display_data"
    },
    {
     "name": "stdout",
     "output_type": "stream",
     "text": [
      "Linear Regression RMSE: 5.6278\n",
      "Linear Regression MAE: 3.1592"
     ]
    }
   ],
   "source": [
    "from pyspark.ml.evaluation import RegressionEvaluator\n",
    "\n",
    "lr_rmse_evaluator = RegressionEvaluator(labelCol = \"fare_amount\", predictionCol = \"prediction\", metricName = \"rmse\")\n",
    "lr_rmse = lr_rmse_evaluator.evaluate(lr_predictions)\n",
    "\n",
    "lr_mae_evaluator = RegressionEvaluator(labelCol = \"fare_amount\", predictionCol = \"prediction\", metricName = \"mae\")\n",
    "lr_mae = lr_mae_evaluator.evaluate(lr_predictions)\n",
    "\n",
    "print(f\"Linear Regression RMSE: {lr_rmse:.4f}\")\n",
    "print(f\"Linear Regression MAE: {lr_mae:.4f}\")"
   ]
  },
  {
   "cell_type": "code",
   "execution_count": 13,
   "id": "850f273d-2548-4963-a899-fd97673d8be9",
   "metadata": {
    "execution": {
     "iopub.execute_input": "2025-03-18T08:17:24.580764Z",
     "iopub.status.busy": "2025-03-18T08:17:24.580517Z",
     "iopub.status.idle": "2025-03-18T08:21:06.864861Z",
     "shell.execute_reply": "2025-03-18T08:21:06.863454Z",
     "shell.execute_reply.started": "2025-03-18T08:17:24.580737Z"
    },
    "tags": []
   },
   "outputs": [
    {
     "data": {
      "application/vnd.jupyter.widget-view+json": {
       "model_id": "9b3edc536c544120b8eb4e9d931b9a5d",
       "version_major": 2,
       "version_minor": 0
      },
      "text/plain": [
       "VBox()"
      ]
     },
     "metadata": {},
     "output_type": "display_data"
    },
    {
     "data": {
      "application/vnd.jupyter.widget-view+json": {
       "model_id": "",
       "version_major": 2,
       "version_minor": 0
      },
      "text/plain": [
       "FloatProgress(value=0.0, bar_style='info', description='Progress:', layout=Layout(height='25px', width='50%'),…"
      ]
     },
     "metadata": {},
     "output_type": "display_data"
    },
    {
     "name": "stdout",
     "output_type": "stream",
     "text": [
      "+-----------+------------------+\n",
      "|fare_amount|        prediction|\n",
      "+-----------+------------------+\n",
      "|       13.8|15.577520053004926|\n",
      "|        4.6| 5.694017874777113|\n",
      "|        5.0| 6.616806933783921|\n",
      "|        4.6| 7.667671197947389|\n",
      "|        7.4| 8.694600192095036|\n",
      "|        4.2| 6.698182523613864|\n",
      "|       16.6|10.537640960481848|\n",
      "|        7.4| 8.843612927406095|\n",
      "|       14.6|14.589011894492364|\n",
      "|        9.4| 7.504000844014802|\n",
      "+-----------+------------------+\n",
      "only showing top 10 rows"
     ]
    }
   ],
   "source": [
    "from pyspark.ml.regression import GBTRegressor\n",
    "\n",
    "gbt = GBTRegressor(featuresCol = \"scaled_features\", labelCol = \"fare_amount\", maxIter = 10)\n",
    "gbt_model = gbt.fit(train_data)\n",
    "gbt_predictions = gbt_model.transform(test_data)\n",
    "gbt_predictions.select(\"fare_amount\", \"prediction\").show(10)"
   ]
  },
  {
   "cell_type": "code",
   "execution_count": 14,
   "id": "a53061fc-5d84-4802-954c-7e24876e3ed6",
   "metadata": {
    "execution": {
     "iopub.execute_input": "2025-03-18T08:21:15.593414Z",
     "iopub.status.busy": "2025-03-18T08:21:15.593158Z",
     "iopub.status.idle": "2025-03-18T08:22:27.110066Z",
     "shell.execute_reply": "2025-03-18T08:22:27.109293Z",
     "shell.execute_reply.started": "2025-03-18T08:21:15.593385Z"
    },
    "tags": []
   },
   "outputs": [
    {
     "data": {
      "application/vnd.jupyter.widget-view+json": {
       "model_id": "3e2b9ae67d85416c9cbd1a041abda697",
       "version_major": 2,
       "version_minor": 0
      },
      "text/plain": [
       "VBox()"
      ]
     },
     "metadata": {},
     "output_type": "display_data"
    },
    {
     "data": {
      "application/vnd.jupyter.widget-view+json": {
       "model_id": "",
       "version_major": 2,
       "version_minor": 0
      },
      "text/plain": [
       "FloatProgress(value=0.0, bar_style='info', description='Progress:', layout=Layout(height='25px', width='50%'),…"
      ]
     },
     "metadata": {},
     "output_type": "display_data"
    },
    {
     "name": "stdout",
     "output_type": "stream",
     "text": [
      "GBT RMSE: 4.6415\n",
      "GBT MAE: 2.6664"
     ]
    }
   ],
   "source": [
    "gbt_rmse_evaluator = RegressionEvaluator(labelCol = \"fare_amount\", predictionCol = \"prediction\", metricName = \"rmse\")\n",
    "gbt_rmse = gbt_rmse_evaluator.evaluate(gbt_predictions)\n",
    "\n",
    "gbt_mae_evaluator = RegressionEvaluator(labelCol = \"fare_amount\", predictionCol = \"prediction\", metricName = \"mae\")\n",
    "gbt_mae = gbt_mae_evaluator.evaluate(gbt_predictions)\n",
    "\n",
    "print(f\"GBT RMSE: {gbt_rmse:.4f}\")\n",
    "print(f\"GBT MAE: {gbt_mae:.4f}\")"
   ]
  },
  {
   "cell_type": "code",
   "execution_count": 15,
   "id": "928a4965-1b5f-4463-b915-9c8e7bc27514",
   "metadata": {
    "execution": {
     "iopub.execute_input": "2025-03-18T08:26:10.294808Z",
     "iopub.status.busy": "2025-03-18T08:26:10.294571Z",
     "iopub.status.idle": "2025-03-18T08:32:55.498761Z",
     "shell.execute_reply": "2025-03-18T08:32:55.497459Z",
     "shell.execute_reply.started": "2025-03-18T08:26:10.294780Z"
    },
    "tags": []
   },
   "outputs": [
    {
     "data": {
      "application/vnd.jupyter.widget-view+json": {
       "model_id": "2c59d224e19942c594b35c2d177ffcc5",
       "version_major": 2,
       "version_minor": 0
      },
      "text/plain": [
       "VBox()"
      ]
     },
     "metadata": {},
     "output_type": "display_data"
    },
    {
     "data": {
      "application/vnd.jupyter.widget-view+json": {
       "model_id": "",
       "version_major": 2,
       "version_minor": 0
      },
      "text/plain": [
       "FloatProgress(value=0.0, bar_style='info', description='Progress:', layout=Layout(height='25px', width='50%'),…"
      ]
     },
     "metadata": {},
     "output_type": "display_data"
    },
    {
     "name": "stdout",
     "output_type": "stream",
     "text": [
      "Best Hyperparameter\n",
      "Best maxDepth: 5\n",
      "Best maxIter: 10\n",
      "Best stepSize: 0.1\n",
      "Optimized GBT RMSE: 4.6488\n",
      "Optimized GBT MAE: 2.6694"
     ]
    }
   ],
   "source": [
    "from pyspark.ml.tuning import ParamGridBuilder, TrainValidationSplit\n",
    "\n",
    "gbt = GBTRegressor(featuresCol = \"scaled_features\", labelCol = \"fare_amount\")\n",
    "\n",
    "paramGrid = (ParamGridBuilder()\n",
    "            .addGrid(gbt.maxDepth, [3,5])\n",
    "            .addGrid(gbt.maxIter, [10])\n",
    "            .addGrid(gbt.stepSize, [0.1])\n",
    "            .build())\n",
    "\n",
    "evaluator = RegressionEvaluator(labelCol = \"fare_amount\", predictionCol = \"prediction\", metricName = \"rmse\")\n",
    "\n",
    "trainValidationSplit = TrainValidationSplit(\n",
    "    estimator = gbt,\n",
    "    estimatorParamMaps = paramGrid,\n",
    "    evaluator = evaluator, \n",
    "    trainRatio = 0.8\n",
    ")\n",
    "\n",
    "train_sample = train_data.sample(fraction = 0.3, seed = 42)\n",
    "tvModel = trainValidationSplit.fit(train_sample)\n",
    "bestModel = tvModel.bestModel\n",
    "\n",
    "best_maxDepth = bestModel._java_obj.getMaxDepth()\n",
    "best_maxIter = bestModel._java_obj.getMaxIter()\n",
    "best_stepSize = bestModel._java_obj.getStepSize()\n",
    "\n",
    "print(f\"Best Hyperparameter\")\n",
    "print(f\"Best maxDepth: {best_maxDepth}\")\n",
    "print(f\"Best maxIter: {best_maxIter}\")\n",
    "print(f\"Best stepSize: {best_stepSize}\")\n",
    "\n",
    "predictions = bestModel.transform(test_data)\n",
    "\n",
    "rmse = evaluator.evaluate(predictions)\n",
    "mae_evaluator = RegressionEvaluator(labelCol = \"fare_amount\", predictionCol = \"prediction\", metricName = \"mae\")\n",
    "mae = mae_evaluator.evaluate(predictions)\n",
    "\n",
    "print(f\"Optimized GBT RMSE: {rmse:.4f}\")\n",
    "print(f\"Optimized GBT MAE: {mae:.4f}\")\n"
   ]
  },
  {
   "cell_type": "code",
   "execution_count": 16,
   "id": "d208cd0b-2902-46dd-94b4-22399296c8b5",
   "metadata": {
    "execution": {
     "iopub.execute_input": "2025-03-18T08:34:49.667211Z",
     "iopub.status.busy": "2025-03-18T08:34:49.666797Z",
     "iopub.status.idle": "2025-03-18T08:35:11.041608Z",
     "shell.execute_reply": "2025-03-18T08:35:11.040730Z",
     "shell.execute_reply.started": "2025-03-18T08:34:49.667179Z"
    },
    "tags": []
   },
   "outputs": [
    {
     "data": {
      "application/vnd.jupyter.widget-view+json": {
       "model_id": "2b5917da237a43a9a1dc730b66828a98",
       "version_major": 2,
       "version_minor": 0
      },
      "text/plain": [
       "VBox()"
      ]
     },
     "metadata": {},
     "output_type": "display_data"
    },
    {
     "data": {
      "application/vnd.jupyter.widget-view+json": {
       "model_id": "",
       "version_major": 2,
       "version_minor": 0
      },
      "text/plain": [
       "FloatProgress(value=0.0, bar_style='info', description='Progress:', layout=Layout(height='25px', width='50%'),…"
      ]
     },
     "metadata": {},
     "output_type": "display_data"
    },
    {
     "name": "stdout",
     "output_type": "stream",
     "text": [
      "+-----------+------------------+\n",
      "|fare_amount|        prediction|\n",
      "+-----------+------------------+\n",
      "|       13.8|15.985803965387955|\n",
      "|        4.6|5.6623125555775236|\n",
      "|        5.0|6.5917231370935765|\n",
      "|        4.6|  7.53779728027998|\n",
      "|        7.4|  8.29401590191077|\n",
      "|        4.2| 7.000574067299341|\n",
      "|       16.6| 9.391705773370417|\n",
      "|        7.4|  8.63509778837609|\n",
      "|       14.6|14.118625646934285|\n",
      "|        9.4|  7.53779728027998|\n",
      "+-----------+------------------+\n",
      "only showing top 10 rows"
     ]
    }
   ],
   "source": [
    "predictions.select(\"fare_amount\", \"prediction\").show(10)"
   ]
  }
 ],
 "metadata": {
  "kernelspec": {
   "display_name": "Python 3 (ipykernel)",
   "language": "python",
   "name": "python3"
  },
  "language_info": {
   "codemirror_mode": {
    "name": "ipython",
    "version": 3
   },
   "file_extension": ".py",
   "mimetype": "text/x-python",
   "name": "python",
   "nbconvert_exporter": "python",
   "pygments_lexer": "ipython3",
   "version": "3.10.9"
  }
 },
 "nbformat": 4,
 "nbformat_minor": 5
}
